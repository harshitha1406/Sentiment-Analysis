{
  "nbformat": 4,
  "nbformat_minor": 0,
  "metadata": {
    "colab": {
      "name": "Model.ipynb",
      "provenance": [],
      "collapsed_sections": [],
      "include_colab_link": true
    },
    "kernelspec": {
      "name": "python3",
      "display_name": "Python 3"
    },
    "language_info": {
      "name": "python"
    }
  },
  "cells": [
    {
      "cell_type": "markdown",
      "metadata": {
        "id": "view-in-github",
        "colab_type": "text"
      },
      "source": [
        "<a href=\"https://colab.research.google.com/github/harshitha1406/Sentiment-Analysis/blob/main/Model.ipynb\" target=\"_parent\"><img src=\"https://colab.research.google.com/assets/colab-badge.svg\" alt=\"Open In Colab\"/></a>"
      ]
    },
    {
      "cell_type": "code",
      "metadata": {
        "id": "1BWNMGdPfAHA"
      },
      "source": [
        "import numpy as np\n",
        "import pandas as pd"
      ],
      "execution_count": null,
      "outputs": []
    },
    {
      "cell_type": "code",
      "metadata": {
        "id": "8F5YAyUifHOj"
      },
      "source": [
        "df = pd.read_csv('/content/Amazon_Reviews.csv')"
      ],
      "execution_count": null,
      "outputs": []
    },
    {
      "cell_type": "code",
      "metadata": {
        "colab": {
          "base_uri": "https://localhost:8080/",
          "height": 195
        },
        "id": "-LjtfNA2fMZi",
        "outputId": "46ebd8fd-d165-4e31-e850-1aea0143e838"
      },
      "source": [
        "df.head()"
      ],
      "execution_count": null,
      "outputs": [
        {
          "output_type": "execute_result",
          "data": {
            "text/html": [
              "<div>\n",
              "<style scoped>\n",
              "    .dataframe tbody tr th:only-of-type {\n",
              "        vertical-align: middle;\n",
              "    }\n",
              "\n",
              "    .dataframe tbody tr th {\n",
              "        vertical-align: top;\n",
              "    }\n",
              "\n",
              "    .dataframe thead th {\n",
              "        text-align: right;\n",
              "    }\n",
              "</style>\n",
              "<table border=\"1\" class=\"dataframe\">\n",
              "  <thead>\n",
              "    <tr style=\"text-align: right;\">\n",
              "      <th></th>\n",
              "      <th>Customer_Reviews</th>\n",
              "      <th>Cleaned_Reviews</th>\n",
              "      <th>Sentiment_score</th>\n",
              "      <th>Sentiment</th>\n",
              "    </tr>\n",
              "  </thead>\n",
              "  <tbody>\n",
              "    <tr>\n",
              "      <th>0</th>\n",
              "      <td>\\n\\n  Very slim ,light weight easily carry in ...</td>\n",
              "      <td>slim light weight easily carry travelinggood b...</td>\n",
              "      <td>0.7650</td>\n",
              "      <td>positive</td>\n",
              "    </tr>\n",
              "    <tr>\n",
              "      <th>1</th>\n",
              "      <td>\\n\\n  I bought this exchanging my Acer Aspire ...</td>\n",
              "      <td>buy exchange acer aspire v5 intel i3 laptop si...</td>\n",
              "      <td>0.4417</td>\n",
              "      <td>positive</td>\n",
              "    </tr>\n",
              "    <tr>\n",
              "      <th>2</th>\n",
              "      <td>\\n\\n  initial impression is excellent...light ...</td>\n",
              "      <td>initial impression excellent light weight thin...</td>\n",
              "      <td>0.6808</td>\n",
              "      <td>positive</td>\n",
              "    </tr>\n",
              "    <tr>\n",
              "      <th>3</th>\n",
              "      <td>\\n\\n  I am a Computer Technician, and i have p...</td>\n",
              "      <td>computer technician purchase configured 5 thes...</td>\n",
              "      <td>0.9758</td>\n",
              "      <td>positive</td>\n",
              "    </tr>\n",
              "    <tr>\n",
              "      <th>4</th>\n",
              "      <td>\\n\\n  I am writing this review after using the...</td>\n",
              "      <td>write review use laptop one month1 m office 20...</td>\n",
              "      <td>0.9383</td>\n",
              "      <td>positive</td>\n",
              "    </tr>\n",
              "  </tbody>\n",
              "</table>\n",
              "</div>"
            ],
            "text/plain": [
              "                                    Customer_Reviews  ... Sentiment\n",
              "0  \\n\\n  Very slim ,light weight easily carry in ...  ...  positive\n",
              "1  \\n\\n  I bought this exchanging my Acer Aspire ...  ...  positive\n",
              "2  \\n\\n  initial impression is excellent...light ...  ...  positive\n",
              "3  \\n\\n  I am a Computer Technician, and i have p...  ...  positive\n",
              "4  \\n\\n  I am writing this review after using the...  ...  positive\n",
              "\n",
              "[5 rows x 4 columns]"
            ]
          },
          "metadata": {
            "tags": []
          },
          "execution_count": 3
        }
      ]
    },
    {
      "cell_type": "code",
      "metadata": {
        "colab": {
          "base_uri": "https://localhost:8080/"
        },
        "id": "mNQ7qAo3fPSD",
        "outputId": "68003b90-9937-46bf-93be-b5707b8ce34e"
      },
      "source": [
        "df['Sentiment'].value_counts()"
      ],
      "execution_count": null,
      "outputs": [
        {
          "output_type": "execute_result",
          "data": {
            "text/plain": [
              "positive    1039\n",
              "negative     426\n",
              "neutral      194\n",
              "Name: Sentiment, dtype: int64"
            ]
          },
          "metadata": {
            "tags": []
          },
          "execution_count": 4
        }
      ]
    },
    {
      "cell_type": "code",
      "metadata": {
        "id": "Nv610yNgq_U8"
      },
      "source": [
        "from sklearn.feature_extraction.text import CountVectorizer\n",
        "vect = CountVectorizer(max_features=2000) \n",
        "x = vect.fit_transform(df['Customer_Reviews'].astype(str)).toarray()\n",
        "y = df['Sentiment']"
      ],
      "execution_count": null,
      "outputs": []
    },
    {
      "cell_type": "code",
      "metadata": {
        "id": "E4KAaW-Enuvp"
      },
      "source": [
        "import pickle\n",
        "pickle.dump(vect, open('vect.pkl', 'wb'))"
      ],
      "execution_count": null,
      "outputs": []
    },
    {
      "cell_type": "code",
      "metadata": {
        "id": "Kf4Ct1YakV-6"
      },
      "source": [
        "from sklearn.model_selection import train_test_split\n",
        "x_train,x_test,y_train,y_test = train_test_split(x,y,test_size=0.2,random_state=0)"
      ],
      "execution_count": null,
      "outputs": []
    },
    {
      "cell_type": "code",
      "metadata": {
        "colab": {
          "base_uri": "https://localhost:8080/"
        },
        "id": "wdLECSAXO3jL",
        "outputId": "00c5c91e-fed8-4c02-f325-960dbd40b6f2"
      },
      "source": [
        "import numpy as np\n",
        "print(np.unique(y_train,return_counts=True))"
      ],
      "execution_count": null,
      "outputs": [
        {
          "output_type": "stream",
          "text": [
            "(array(['negative', 'neutral', 'positive'], dtype=object), array([342, 154, 831]))\n"
          ],
          "name": "stdout"
        }
      ]
    },
    {
      "cell_type": "code",
      "metadata": {
        "colab": {
          "base_uri": "https://localhost:8080/"
        },
        "id": "CBXmnY5AO3X1",
        "outputId": "c4d94ca7-314a-4e40-b7ec-6a0dcbb7310d"
      },
      "source": [
        "print(np.unique(y_test,return_counts=True))"
      ],
      "execution_count": null,
      "outputs": [
        {
          "output_type": "stream",
          "text": [
            "(array(['negative', 'neutral', 'positive'], dtype=object), array([ 84,  40, 208]))\n"
          ],
          "name": "stdout"
        }
      ]
    },
    {
      "cell_type": "code",
      "metadata": {
        "id": "Cu76t7atkMm2",
        "colab": {
          "base_uri": "https://localhost:8080/"
        },
        "outputId": "70375bf3-83da-41b5-fb0e-938514d80f3a"
      },
      "source": [
        "from sklearn.naive_bayes import MultinomialNB\n",
        "model = MultinomialNB()\n",
        "model.fit(x_train, y_train)"
      ],
      "execution_count": null,
      "outputs": [
        {
          "output_type": "execute_result",
          "data": {
            "text/plain": [
              "MultinomialNB(alpha=1.0, class_prior=None, fit_prior=True)"
            ]
          },
          "metadata": {
            "tags": []
          },
          "execution_count": 10
        }
      ]
    },
    {
      "cell_type": "code",
      "metadata": {
        "id": "OVaamio4lVm9"
      },
      "source": [
        "y_pred = model.predict(x_test)"
      ],
      "execution_count": null,
      "outputs": []
    },
    {
      "cell_type": "code",
      "metadata": {
        "id": "xh3bgEwqldED"
      },
      "source": [
        "from sklearn.metrics import confusion_matrix,accuracy_score,classification_report"
      ],
      "execution_count": null,
      "outputs": []
    },
    {
      "cell_type": "code",
      "metadata": {
        "colab": {
          "base_uri": "https://localhost:8080/"
        },
        "id": "9HEH-v7cGHx3",
        "outputId": "14b5e408-e545-4e7f-b1f0-474af329565a"
      },
      "source": [
        "accuracy_score(y_test,y_pred)"
      ],
      "execution_count": null,
      "outputs": [
        {
          "output_type": "execute_result",
          "data": {
            "text/plain": [
              "0.7981927710843374"
            ]
          },
          "metadata": {
            "tags": []
          },
          "execution_count": 13
        }
      ]
    },
    {
      "cell_type": "code",
      "metadata": {
        "colab": {
          "base_uri": "https://localhost:8080/"
        },
        "id": "gWeiBJd4GLEo",
        "outputId": "7cbc426e-e513-44c2-f8ed-4be92425181b"
      },
      "source": [
        "confusion_matrix(y_test, y_pred)"
      ],
      "execution_count": null,
      "outputs": [
        {
          "output_type": "execute_result",
          "data": {
            "text/plain": [
              "array([[ 68,   1,  15],\n",
              "       [ 19,   8,  13],\n",
              "       [ 19,   0, 189]])"
            ]
          },
          "metadata": {
            "tags": []
          },
          "execution_count": 14
        }
      ]
    },
    {
      "cell_type": "code",
      "metadata": {
        "colab": {
          "base_uri": "https://localhost:8080/"
        },
        "id": "wYAEcIFWlpA_",
        "outputId": "d18a5149-fbe1-4ef7-f648-63a60f41a7d3"
      },
      "source": [
        "print(classification_report(y_pred,y_test))"
      ],
      "execution_count": null,
      "outputs": [
        {
          "output_type": "stream",
          "text": [
            "              precision    recall  f1-score   support\n",
            "\n",
            "    negative       0.81      0.64      0.72       106\n",
            "     neutral       0.20      0.89      0.33         9\n",
            "    positive       0.91      0.87      0.89       217\n",
            "\n",
            "    accuracy                           0.80       332\n",
            "   macro avg       0.64      0.80      0.64       332\n",
            "weighted avg       0.86      0.80      0.82       332\n",
            "\n"
          ],
          "name": "stdout"
        }
      ]
    },
    {
      "cell_type": "code",
      "metadata": {
        "colab": {
          "base_uri": "https://localhost:8080/",
          "height": 52
        },
        "id": "PAdU0m7DwjZ5",
        "outputId": "589c2bb2-699c-4405-ef75-285efdcd4771"
      },
      "source": [
        "df['Cleaned_Reviews'][1000]"
      ],
      "execution_count": null,
      "outputs": [
        {
          "output_type": "execute_result",
          "data": {
            "application/vnd.google.colaboratory.intrinsic+json": {
              "type": "string"
            },
            "text/plain": [
              "'browser not support html5 video please buy laptop screen keep freeze buy laptop daughter online class every 1520mins whether use zoom microsoft team keep freeze processor slow come back hp brand gap 10 year remind stay away year please not waste hard earn money'"
            ]
          },
          "metadata": {
            "tags": []
          },
          "execution_count": 16
        }
      ]
    },
    {
      "cell_type": "code",
      "metadata": {
        "colab": {
          "base_uri": "https://localhost:8080/",
          "height": 35
        },
        "id": "SCVso-eEwjNB",
        "outputId": "190f6d5d-e353-49af-bed4-810ee632955a"
      },
      "source": [
        "df['Sentiment'][1000]"
      ],
      "execution_count": null,
      "outputs": [
        {
          "output_type": "execute_result",
          "data": {
            "application/vnd.google.colaboratory.intrinsic+json": {
              "type": "string"
            },
            "text/plain": [
              "'positive'"
            ]
          },
          "metadata": {
            "tags": []
          },
          "execution_count": 17
        }
      ]
    },
    {
      "cell_type": "code",
      "metadata": {
        "colab": {
          "base_uri": "https://localhost:8080/"
        },
        "id": "K-UhytqFw3MO",
        "outputId": "9e9e4bbd-6441-48d4-f3c4-287f70617cce"
      },
      "source": [
        "text = \"slim  light weight easily carry travelinggood battery time  min 5hrsfor office use best one\"\n",
        "text = vect.transform([text])\n",
        "model.predict(text.toarray())"
      ],
      "execution_count": null,
      "outputs": [
        {
          "output_type": "execute_result",
          "data": {
            "text/plain": [
              "array(['positive'], dtype='<U8')"
            ]
          },
          "metadata": {
            "tags": []
          },
          "execution_count": 18
        }
      ]
    },
    {
      "cell_type": "code",
      "metadata": {
        "id": "b473VoQuOy2m"
      },
      "source": [
        "import pickle\n",
        "pickle.dump(model, open(\"Reviews.pkl\", \"wb\"))"
      ],
      "execution_count": null,
      "outputs": []
    },
    {
      "cell_type": "code",
      "metadata": {
        "colab": {
          "base_uri": "https://localhost:8080/"
        },
        "id": "CQtg8w1dO_f5",
        "outputId": "f7c33653-1b84-4952-c777-4e00b9b64ee3"
      },
      "source": [
        "new_model = pickle.load(open(\"Reviews.pkl\", \"rb\"))\n",
        "new_model.predict(x_test)\n",
        "new_model.score(x_test,y_test)"
      ],
      "execution_count": null,
      "outputs": [
        {
          "output_type": "execute_result",
          "data": {
            "text/plain": [
              "0.7981927710843374"
            ]
          },
          "metadata": {
            "tags": []
          },
          "execution_count": 20
        }
      ]
    },
    {
      "cell_type": "code",
      "metadata": {
        "id": "IwV7aIKjzWuc",
        "colab": {
          "base_uri": "https://localhost:8080/"
        },
        "outputId": "46f91634-8096-457e-f389-a2fba43bb114"
      },
      "source": [
        "!pip install streamlit --quiet\n",
        "!pip install pyngrok==4.1.1 --quiet\n",
        "from pyngrok import ngrok"
      ],
      "execution_count": null,
      "outputs": [
        {
          "output_type": "stream",
          "text": [
            "\u001b[K     |████████████████████████████████| 8.2MB 12.9MB/s \n",
            "\u001b[K     |████████████████████████████████| 81kB 9.1MB/s \n",
            "\u001b[K     |████████████████████████████████| 163kB 48.2MB/s \n",
            "\u001b[K     |████████████████████████████████| 112kB 48.8MB/s \n",
            "\u001b[K     |████████████████████████████████| 4.2MB 39.3MB/s \n",
            "\u001b[K     |████████████████████████████████| 71kB 7.8MB/s \n",
            "\u001b[K     |████████████████████████████████| 122kB 38.0MB/s \n",
            "\u001b[?25h  Building wheel for blinker (setup.py) ... \u001b[?25l\u001b[?25hdone\n",
            "\u001b[31mERROR: google-colab 1.0.0 has requirement ipykernel~=4.10, but you'll have ipykernel 5.5.3 which is incompatible.\u001b[0m\n",
            "  Building wheel for pyngrok (setup.py) ... \u001b[?25l\u001b[?25hdone\n"
          ],
          "name": "stdout"
        }
      ]
    },
    {
      "cell_type": "code",
      "metadata": {
        "colab": {
          "base_uri": "https://localhost:8080/"
        },
        "id": "Vf9wQVA4ik34",
        "outputId": "87b973d7-6089-425c-8132-4d7dbb24f0d6"
      },
      "source": [
        "%%writefile app.py\n",
        "import streamlit as st\n",
        "import sklearn\n",
        "import pickle\n",
        "from sklearn.feature_extraction.text import CountVectorizer\n",
        "new_model = pickle.load(open('Reviews.pkl', 'rb'))\n",
        "vect = pickle.load(open('vect.pkl', 'rb'))\n",
        "st.title('Sentiment Analysis')\n",
        "input = st.text_input('Enter your message : ')\n",
        "input = vect.transform([input])\n",
        "new_y_pred = new_model.predict(input.toarray())\n",
        "\n",
        "if st.button('Predict'):\n",
        "  st.title([new_y_pred[0]])\n",
        "\n"
      ],
      "execution_count": null,
      "outputs": [
        {
          "output_type": "stream",
          "text": [
            "Writing app.py\n"
          ],
          "name": "stdout"
        }
      ]
    },
    {
      "cell_type": "code",
      "metadata": {
        "colab": {
          "base_uri": "https://localhost:8080/",
          "height": 52
        },
        "id": "7tfOqc8Yly43",
        "outputId": "525230f6-fe87-47ad-a026-12782a7aced5"
      },
      "source": [
        "!nohup streamlit run app.py &\n",
        "url=ngrok.connect(port='8501')\n",
        "url"
      ],
      "execution_count": null,
      "outputs": [
        {
          "output_type": "stream",
          "text": [
            "nohup: appending output to 'nohup.out'\n"
          ],
          "name": "stdout"
        },
        {
          "output_type": "execute_result",
          "data": {
            "application/vnd.google.colaboratory.intrinsic+json": {
              "type": "string"
            },
            "text/plain": [
              "'http://d758a82a95fe.ngrok.io'"
            ]
          },
          "metadata": {
            "tags": []
          },
          "execution_count": 23
        }
      ]
    },
    {
      "cell_type": "code",
      "metadata": {
        "id": "ROS5lNOsNfwJ"
      },
      "source": [
        ""
      ],
      "execution_count": null,
      "outputs": []
    }
  ]
}